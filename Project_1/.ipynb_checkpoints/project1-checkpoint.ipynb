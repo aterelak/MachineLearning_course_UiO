{
 "cells": [
  {
   "cell_type": "markdown",
   "id": "98061692-877e-4eab-aaf8-541d03373f29",
   "metadata": {},
   "source": [
    "# Project 1\n",
    "### authors: *Giorgio Chiro, Alicja Terelak, Eyyüb Güven*"
   ]
  },
  {
   "cell_type": "markdown",
   "id": "8c0282cd-540a-45f8-9792-a05cc0043b4f",
   "metadata": {},
   "source": [
    "## A. Ordinary Least Square (OLS) on the Franke function"
   ]
  },
  {
   "cell_type": "code",
   "execution_count": null,
   "id": "48fe8543-c409-4489-84bf-87c0c71b7247",
   "metadata": {},
   "outputs": [],
   "source": []
  },
  {
   "cell_type": "markdown",
   "id": "627bbd86-e864-4f07-a6f2-1723223ad7df",
   "metadata": {},
   "source": [
    "## B. Adding Ridge regression for the Franke function"
   ]
  },
  {
   "cell_type": "code",
   "execution_count": null,
   "id": "7cf59879-0266-4f40-a7df-f45c1b1c71a2",
   "metadata": {},
   "outputs": [],
   "source": []
  },
  {
   "cell_type": "markdown",
   "id": "9c2fb2fc-2d95-4da1-9307-b57c40d73810",
   "metadata": {},
   "source": [
    "## C. Adding Lasso for the Franke function"
   ]
  },
  {
   "cell_type": "code",
   "execution_count": null,
   "id": "447885de-d93b-41b2-b4aa-10077380be65",
   "metadata": {},
   "outputs": [],
   "source": []
  },
  {
   "cell_type": "markdown",
   "id": "da82319c-1107-4640-9306-0b90e98b4ecf",
   "metadata": {},
   "source": [
    "## D. Paper and pencil part"
   ]
  },
  {
   "cell_type": "markdown",
   "id": "8757224a-8048-47e2-b719-dd464c569526",
   "metadata": {},
   "source": [
    "### Step 1\n",
    "Show that the expectation value of $\\boldsymbol{y}$ for a given element $i$: $\n",
    "\\mathbb{E}(y_i)  =\\sum_{j}x_{ij} \\beta_j=\\mathbf{X}_{i, \\ast} \\, \\boldsymbol{\\beta},\n",
    "$"
   ]
  },
  {
   "cell_type": "markdown",
   "id": "52e0150a-f6f9-4b94-ae45-e2ab856146d2",
   "metadata": {},
   "source": []
  },
  {
   "cell_type": "markdown",
   "id": "499a525c-1c1a-4f77-92e7-73480a770a52",
   "metadata": {},
   "source": [
    "### Step 2\n",
    "Show that the variance of the equation above is: $\n",
    "\\mbox{Var}(y_i)  = \\sigma^2.\n",
    "$"
   ]
  },
  {
   "cell_type": "markdown",
   "id": "fc47a942-cfef-4472-9ceb-89beefb75e52",
   "metadata": {},
   "source": []
  },
  {
   "cell_type": "markdown",
   "id": "a14c5275-67ca-47ee-8aab-6bbd3d19bcc9",
   "metadata": {},
   "source": [
    "### Step 3\n",
    "With the OLS expressions for the optimal parameters $\\boldsymbol{\\hat{\\beta}}$ show that: $\n",
    "\\mathbb{E}(\\boldsymbol{\\hat{\\beta}}) = \\boldsymbol{\\beta}.\n",
    "$"
   ]
  },
  {
   "cell_type": "markdown",
   "id": "f83dabe5-954b-414a-82d4-06d1f1eb44f0",
   "metadata": {},
   "source": []
  },
  {
   "cell_type": "markdown",
   "id": "f41513bc-4a54-4a32-9f1c-2f2b0e8de221",
   "metadata": {},
   "source": [
    "### Step 4\n",
    "Show that the variance of $\\boldsymbol{\\beta}$ is: $\n",
    "\\mbox{Var}(\\boldsymbol{\\hat{\\beta}}) = \\sigma^2 \\, (\\mathbf{X}^{T} \\mathbf{X})^{-1}.\n",
    "$"
   ]
  },
  {
   "cell_type": "markdown",
   "id": "94a494e6-492e-43ec-a335-f28228dcb204",
   "metadata": {},
   "source": []
  },
  {
   "cell_type": "markdown",
   "id": "b857d30c-3f38-4041-a1e6-d04336990e27",
   "metadata": {},
   "source": [
    "## E. Bias-variance trade-off and resampling techniques"
   ]
  },
  {
   "cell_type": "code",
   "execution_count": null,
   "id": "60c01832-a995-45fb-96ad-96fdc7f3da38",
   "metadata": {},
   "outputs": [],
   "source": []
  },
  {
   "cell_type": "markdown",
   "id": "1e0ef809-aa69-4f57-af6c-d30be0ac2666",
   "metadata": {},
   "source": [
    "## F. Cross-validation as resampling techniques, adding more complexity"
   ]
  },
  {
   "cell_type": "code",
   "execution_count": null,
   "id": "8978177b-129a-4f4c-a74b-6ba4e06faa0e",
   "metadata": {},
   "outputs": [],
   "source": []
  },
  {
   "cell_type": "markdown",
   "id": "18dd941d-b8b7-443c-884d-6065d092f09c",
   "metadata": {},
   "source": [
    "## G. Analysis of real data"
   ]
  },
  {
   "cell_type": "code",
   "execution_count": null,
   "id": "67fc97c5-511b-4884-8d65-3f4677516aa6",
   "metadata": {},
   "outputs": [],
   "source": []
  }
 ],
 "metadata": {
  "kernelspec": {
   "display_name": "Python 3 (ipykernel)",
   "language": "python",
   "name": "python3"
  },
  "language_info": {
   "codemirror_mode": {
    "name": "ipython",
    "version": 3
   },
   "file_extension": ".py",
   "mimetype": "text/x-python",
   "name": "python",
   "nbconvert_exporter": "python",
   "pygments_lexer": "ipython3",
   "version": "3.11.4"
  }
 },
 "nbformat": 4,
 "nbformat_minor": 5
}
